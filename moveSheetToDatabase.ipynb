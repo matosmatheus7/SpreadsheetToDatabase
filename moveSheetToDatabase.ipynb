{
 "cells": [
  {
   "attachments": {},
   "cell_type": "markdown",
   "metadata": {},
   "source": [
    "# Spreadsheet to Database"
   ]
  },
  {
   "attachments": {},
   "cell_type": "markdown",
   "metadata": {},
   "source": [
    "This tutorial is targeted at Data Engineering beginners.\n",
    "Where we will upgrade our inventory management system from a spreadsheet into a database.\n",
    "\n",
    "On this example we created a MySQL instance in AWS RDS, but you can use other MYSQL instance."
   ]
  },
  {
   "attachments": {},
   "cell_type": "markdown",
   "metadata": {},
   "source": [
    "### Moving Inventory Data from a Spreadsheet into a Database\n"
   ]
  },
  {
   "cell_type": "code",
   "execution_count": 2,
   "metadata": {},
   "outputs": [
    {
     "name": "stdout",
     "output_type": "stream",
     "text": [
      "Looking in indexes: https://pypi.org/simple, https://pip.repos.neuron.amazonaws.com\n",
      "Requirement already satisfied: mysql-connector in /home/ec2-user/anaconda3/envs/python3/lib/python3.10/site-packages (2.2.9)\n",
      "bytearray(b'information_schema')\n",
      "bytearray(b'inventory')\n",
      "bytearray(b'mysql')\n",
      "bytearray(b'performance_schema')\n",
      "bytearray(b'sys')\n"
     ]
    }
   ],
   "source": [
    "! pip install mysql-connector\n",
    "\n",
    "import mysql.connector\n",
    "## Make sure the Host matches your RDS instance along with the username/password created earlier.\n",
    "host = \"inventorydb.cy8yhijbefdx.us-west-2.rds.amazonaws.com\"\n",
    "user = \"admin\"\n",
    "passwd = \"demotest123\"\n",
    "mydb = mysql.connector.connect(\n",
    "  host=host,\n",
    "  user=user,\n",
    "  passwd=passwd\n",
    ")\n",
    "\n",
    "cursor = mydb.cursor()\n",
    "cursor.execute(\"CREATE DATABASE IF NOT EXISTS inventory\")\n",
    "cursor.execute(\"show databases\") \n",
    "\n",
    "for (databases) in cursor:\n",
    "     print (databases[0])"
   ]
  },
  {
   "attachments": {},
   "cell_type": "markdown",
   "metadata": {},
   "source": [
    "### Create the Table\n",
    "Next we must create the table within the Database which will hold our inventory data.  We will call this table `product_table` which is defined by a _schema_ which contains the various columns along with datatypes. Our schema is: ` product_table (ProductName varchar(50),Description varchar(255),ProductSku bigint(12),QuantityInStock int(5),ReorderLevel int(5),WholeSaleCost decimal(8,2),RetailCost decimal(8,2))`"
   ]
  },
  {
   "cell_type": "code",
   "execution_count": 3,
   "metadata": {},
   "outputs": [
    {
     "name": "stdout",
     "output_type": "stream",
     "text": [
      "Looking in indexes: https://pypi.org/simple, https://pip.repos.neuron.amazonaws.com\r\n",
      "Requirement already satisfied: mysql-connector in /home/ec2-user/anaconda3/envs/python3/lib/python3.10/site-packages (2.2.9)\r\n"
     ]
    }
   ],
   "source": [
    "! pip install mysql-connector\n",
    "\n",
    "import mysql.connector\n",
    "mydb = mysql.connector.connect(\n",
    "  host=host,\n",
    "  user=user,\n",
    "  passwd=passwd,\n",
    "  database=\"inventory\"\n",
    ")\n",
    "\n",
    "cursor = mydb.cursor()\n",
    "cursor.execute(\"CREATE TABLE IF NOT EXISTS product_table (ProductName varchar(50),Description varchar(255),ProductSku bigint(12),QuantityInStock int(5),ReorderLevel int(5),WholeSaleCost decimal(8,2),RetailCost decimal(8,2));\")"
   ]
  },
  {
   "attachments": {},
   "cell_type": "markdown",
   "metadata": {},
   "source": [
    "See the created table on the Mysql Database"
   ]
  },
  {
   "cell_type": "code",
   "execution_count": 6,
   "metadata": {},
   "outputs": [
    {
     "name": "stdout",
     "output_type": "stream",
     "text": [
      "Looking in indexes: https://pypi.org/simple, https://pip.repos.neuron.amazonaws.com\n",
      "Requirement already satisfied: mysql-connector in /home/ec2-user/anaconda3/envs/python3/lib/python3.10/site-packages (2.2.9)\n",
      "bytearray(b'product_table')\n"
     ]
    }
   ],
   "source": [
    "! pip install mysql-connector\n",
    "\n",
    "import mysql.connector\n",
    "## Make sure the Host matches your RDS instance along with the username/password created earlier.\n",
    "mydb = mysql.connector.connect(\n",
    "  host=host,\n",
    "  user=user,\n",
    "  passwd=passwd,\n",
    "  database=\"inventory\"\n",
    ")\n",
    "\n",
    "cursor = mydb.cursor()\n",
    "\n",
    "##Fill in the code here to view the tables on our database\n",
    "cursor.execute(\"SHOW TABLES\") \n",
    "for (tables) in cursor:\n",
    "     print (tables[0])"
   ]
  },
  {
   "attachments": {},
   "cell_type": "markdown",
   "metadata": {},
   "source": [
    "### Import the data from CSV into SQL Table"
   ]
  },
  {
   "attachments": {},
   "cell_type": "markdown",
   "metadata": {},
   "source": [
    "Now we will import our data from the provided `Lab1_inventory.csv` into our newly created table.  The code below iterates through the csv provided, and inserts every row into our table.\n"
   ]
  },
  {
   "cell_type": "code",
   "execution_count": 7,
   "metadata": {},
   "outputs": [
    {
     "name": "stdout",
     "output_type": "stream",
     "text": [
      "Looking in indexes: https://pypi.org/simple, https://pip.repos.neuron.amazonaws.com\n",
      "Requirement already satisfied: mysql-connector in /home/ec2-user/anaconda3/envs/python3/lib/python3.10/site-packages (2.2.9)\n",
      "Inserted Row\n",
      "Inserted Row\n",
      "Inserted Row\n",
      "Inserted Row\n",
      "Success!\n"
     ]
    }
   ],
   "source": [
    "! pip install mysql-connector\n",
    "import mysql.connector\n",
    "import csv\n",
    "\n",
    "mydb = mysql.connector.connect(\n",
    "  host=host,\n",
    "  user=user,\n",
    "  passwd=passwd,\n",
    "  database=\"inventory\"\n",
    ")\n",
    "\n",
    "\n",
    "cur = mydb.cursor()\n",
    "\n",
    "csv_data = csv.reader(open('./data_files/Lab1_Inventory.csv'), delimiter=',')\n",
    "\n",
    "# This removes the header\n",
    "next(csv_data) \n",
    "\n",
    "# Process each row in the CSV\n",
    "for row in csv_data:\n",
    "        cur.execute (\"INSERT INTO product_table (ProductName,Description,ProductSku,QuantityInStock,ReorderLevel,WholeSaleCost,RetailCost) VALUES (%s, %s, %s, %s, %s, %s, %s)\",row)\n",
    "        print(\"Inserted Row\")\n",
    "mydb.commit()\n",
    "print(\"Success!\")"
   ]
  },
  {
   "attachments": {},
   "cell_type": "markdown",
   "metadata": {},
   "source": [
    "### View The Data in the Table"
   ]
  },
  {
   "cell_type": "code",
   "execution_count": 8,
   "metadata": {},
   "outputs": [
    {
     "name": "stdout",
     "output_type": "stream",
     "text": [
      "Looking in indexes: https://pypi.org/simple, https://pip.repos.neuron.amazonaws.com\n",
      "Requirement already satisfied: mysql-connector in /home/ec2-user/anaconda3/envs/python3/lib/python3.10/site-packages (2.2.9)\n",
      "[('Mens Shampoo', 'Best brand Mens Shampoo', 1034403303, 10, 3, Decimal('3.25'), Decimal('6.99')), ('ScrewDriver Toolset', '3 Phillips, 2 Flathead toolset', 103443101, 4, 4, Decimal('8.00'), Decimal('12.99')), ('KeepFresh Detergent', 'Original detegent scent for washing clothes', 1034411101, 15, 3, Decimal('8.25'), Decimal('13.99')), ('MouthWash', 'Fresh Mint Mout wash', 122033020, 1, 5, Decimal('3.14'), Decimal('4.99'))]\n"
     ]
    }
   ],
   "source": [
    "! pip install mysql-connector\n",
    "\n",
    "import mysql.connector\n",
    "\n",
    "mydb = mysql.connector.connect(\n",
    "  host=host,\n",
    "  user=user,\n",
    "  passwd=passwd,\n",
    "  database=\"inventory\"\n",
    ")\n",
    "\n",
    "cursor = mydb.cursor()\n",
    "cursor.execute(\"SELECT * FROM product_table\") \n",
    "\n",
    "result = cursor.fetchall()\n",
    "print(result)\n"
   ]
  },
  {
   "attachments": {},
   "cell_type": "markdown",
   "metadata": {},
   "source": [
    "#### Add additional data into the table!\n",
    "Using the SQL Insert Statement we added a couple rows into the table. Example: `INSERT INTO product_table (ProductName,Description,ProductSku,QuantityInStock,ReorderLevel,WholeSaleCost,RetailCost) VALUES ('Sample Product', 'Sample Description', 123456, 4, 2, 3.55, 9.99)`\n"
   ]
  },
  {
   "cell_type": "code",
   "execution_count": 10,
   "metadata": {},
   "outputs": [
    {
     "name": "stdout",
     "output_type": "stream",
     "text": [
      "Looking in indexes: https://pypi.org/simple, https://pip.repos.neuron.amazonaws.com\n",
      "Requirement already satisfied: mysql-connector in /home/ec2-user/anaconda3/envs/python3/lib/python3.10/site-packages (2.2.9)\n",
      "[('Mens Shampoo', 'Best brand Mens Shampoo', 1034403303, 10, 3, Decimal('3.25'), Decimal('6.99')), ('ScrewDriver Toolset', '3 Phillips, 2 Flathead toolset', 103443101, 4, 4, Decimal('8.00'), Decimal('12.99')), ('KeepFresh Detergent', 'Original detegent scent for washing clothes', 1034411101, 15, 3, Decimal('8.25'), Decimal('13.99')), ('MouthWash', 'Fresh Mint Mout wash', 122033020, 1, 5, Decimal('3.14'), Decimal('4.99')), ('Clear Men Shampoo', 'mens anti dandruff shampoo', 203520, 4, 3, Decimal('13.00'), Decimal('4.99'))]\n"
     ]
    }
   ],
   "source": [
    "! pip install mysql-connector\n",
    "import mysql.connector\n",
    "import csv\n",
    "\n",
    "mydb = mysql.connector.connect(\n",
    "  host=host,\n",
    "  user=user,\n",
    "  passwd=passwd,\n",
    "  database=\"inventory\"\n",
    ")\n",
    "\n",
    "cursor = mydb.cursor()\n",
    "cursor.execute(\"INSERT INTO product_table (ProductName,Description,ProductSku,QuantityInStock,ReorderLevel,WholeSaleCost,RetailCost) VALUES ('Clear Men Shampoo', 'mens anti dandruff shampoo', 203520, 4, 3, 13.00, 4.99)\")  \n",
    " \n",
    "mydb.commit()\n",
    "\n",
    "## Prints out the rows in the table\n",
    "cursor.execute(\"SELECT * FROM product_table\") \n",
    "\n",
    "result = cursor.fetchall()\n",
    "print(result)"
   ]
  },
  {
   "attachments": {},
   "cell_type": "markdown",
   "metadata": {},
   "source": [
    "### Querying Our Data"
   ]
  },
  {
   "attachments": {},
   "cell_type": "markdown",
   "metadata": {},
   "source": [
    "A query is a question we ask the database about our data. The language of retrieving our data is call _Structured Query Language_ or _SQL_. "
   ]
  },
  {
   "attachments": {},
   "cell_type": "markdown",
   "metadata": {},
   "source": [
    "#### **Querying test** \n",
    "Try querying our database to find products that have a retail cost more than $6."
   ]
  },
  {
   "cell_type": "code",
   "execution_count": 12,
   "metadata": {},
   "outputs": [
    {
     "name": "stdout",
     "output_type": "stream",
     "text": [
      "Looking in indexes: https://pypi.org/simple, https://pip.repos.neuron.amazonaws.com\n",
      "Requirement already satisfied: mysql-connector in /home/ec2-user/anaconda3/envs/python3/lib/python3.10/site-packages (2.2.9)\n",
      "[('Mens Shampoo',), ('ScrewDriver Toolset',), ('KeepFresh Detergent',)]\n"
     ]
    }
   ],
   "source": [
    "! pip install mysql-connector\n",
    "\n",
    "import mysql.connector\n",
    "\n",
    "mydb = mysql.connector.connect(\n",
    "  host=host,\n",
    "  user=user,\n",
    "  passwd=passwd,\n",
    "  database=\"inventory\"\n",
    ")\n",
    "\n",
    "cursor = mydb.cursor()\n",
    "## Fill out the Query to find products that have a retail cost greater than $6\n",
    "cursor.execute(\"SELECT ProductName FROM product_table WHERE RetailCost > 6 \") \n",
    "\n",
    "result = cursor.fetchall()\n",
    "print(result)"
   ]
  },
  {
   "cell_type": "code",
   "execution_count": null,
   "metadata": {},
   "outputs": [],
   "source": []
  }
 ],
 "metadata": {
  "kernelspec": {
   "display_name": "conda_python3",
   "language": "python",
   "name": "conda_python3"
  },
  "language_info": {
   "codemirror_mode": {
    "name": "ipython",
    "version": 3
   },
   "file_extension": ".py",
   "mimetype": "text/x-python",
   "name": "python",
   "nbconvert_exporter": "python",
   "pygments_lexer": "ipython3",
   "version": "3.10.8"
  }
 },
 "nbformat": 4,
 "nbformat_minor": 4
}
